{
 "cells": [
  {
   "cell_type": "markdown",
   "metadata": {},
   "source": [
    "# Data Preparation"
   ]
  },
  {
   "cell_type": "code",
   "execution_count": 33,
   "metadata": {},
   "outputs": [],
   "source": [
    "import pandas as pd"
   ]
  },
  {
   "cell_type": "markdown",
   "metadata": {},
   "source": [
    "### Mahabharata"
   ]
  },
  {
   "cell_type": "code",
   "execution_count": 34,
   "metadata": {},
   "outputs": [],
   "source": [
    "path = \"./Vedanta_Datasets/Mahabharata_English/Book \"\n",
    "df_mahabharata = []\n",
    "\n",
    "for i in range(1, 19):\n",
    "    if i == 12:\n",
    "        for part in range(1, 4):\n",
    "            file_path = f\"{path}{i} - Part {part}.csv\"\n",
    "            try:\n",
    "                mahabharata_df = pd.read_csv(file_path, encoding='latin1')\n",
    "                df_mahabharata.append(mahabharata_df)\n",
    "            except UnicodeDecodeError:\n",
    "                print(f\"Error reading file {file_path}. Skipping this file.\")\n",
    "    elif i == 13:\n",
    "        for part in range(1, 3):\n",
    "            file_path = f\"{path}{i} - Part {part}.csv\"\n",
    "            try:\n",
    "                mahabharata_df = pd.read_csv(file_path, encoding='latin1')\n",
    "                df_mahabharata.append(mahabharata_df)\n",
    "            except UnicodeDecodeError:\n",
    "                print(f\"Error reading file {file_path}. Skipping this file.\")\n",
    "    else:\n",
    "        file_path = f\"{path}{i}.csv\"\n",
    "        try:\n",
    "            mahabharata_df = pd.read_csv(file_path, encoding='latin1')\n",
    "            df_mahabharata.append(mahabharata_df)\n",
    "        except UnicodeDecodeError:\n",
    "            print(f\"Error reading file {file_path}. Skipping this file.\")\n",
    "\n",
    "# Concatenate all DataFrames into a single DataFrame\n",
    "mahabharata_combined = pd.concat(df_mahabharata, ignore_index=True)"
   ]
  },
  {
   "cell_type": "code",
   "execution_count": 35,
   "metadata": {},
   "outputs": [
    {
     "data": {
      "text/plain": [
       "(11441, 6)"
      ]
     },
     "execution_count": 35,
     "metadata": {},
     "output_type": "execute_result"
    }
   ],
   "source": [
    "mahabharata_combined.shape"
   ]
  },
  {
   "cell_type": "code",
   "execution_count": 36,
   "metadata": {},
   "outputs": [
    {
     "data": {
      "text/plain": [
       "11436    \"I have thus indicated the ordinances, O forem...\n",
       "11437    \"In the Vedas, in the Ramayana, and in the sac...\n",
       "11438    \"I have thus, O chief of men, told everything ...\n",
       "11439                  The End of the Svargarohanika-parva\n",
       "11440    The Eighteen parvas of the Mahabharata are thu...\n",
       "Name: Paragraph Text, dtype: object"
      ]
     },
     "execution_count": 36,
     "metadata": {},
     "output_type": "execute_result"
    }
   ],
   "source": [
    "mahabharata_text = mahabharata_combined[\"Paragraph Text\"]\n",
    "mahabharata_text.tail()"
   ]
  },
  {
   "cell_type": "code",
   "execution_count": 37,
   "metadata": {},
   "outputs": [
    {
     "data": {
      "text/plain": [
       "(11441,)"
      ]
     },
     "execution_count": 37,
     "metadata": {},
     "output_type": "execute_result"
    }
   ],
   "source": [
    "mahabharata_text.shape #This is the final text of Mahabharata "
   ]
  },
  {
   "cell_type": "markdown",
   "metadata": {},
   "source": [
    "### Moder Books (Yogananda)"
   ]
  },
  {
   "cell_type": "code",
   "execution_count": 38,
   "metadata": {},
   "outputs": [
    {
     "data": {
      "text/html": [
       "<div>\n",
       "<style scoped>\n",
       "    .dataframe tbody tr th:only-of-type {\n",
       "        vertical-align: middle;\n",
       "    }\n",
       "\n",
       "    .dataframe tbody tr th {\n",
       "        vertical-align: top;\n",
       "    }\n",
       "\n",
       "    .dataframe thead th {\n",
       "        text-align: right;\n",
       "    }\n",
       "</style>\n",
       "<table border=\"1\" class=\"dataframe\">\n",
       "  <thead>\n",
       "    <tr style=\"text-align: right;\">\n",
       "      <th></th>\n",
       "      <th>author</th>\n",
       "      <th>volume</th>\n",
       "      <th>topic</th>\n",
       "      <th>subtopic</th>\n",
       "      <th>url</th>\n",
       "      <th>text</th>\n",
       "    </tr>\n",
       "  </thead>\n",
       "  <tbody>\n",
       "    <tr>\n",
       "      <th>0</th>\n",
       "      <td>Autobigraphy of a Yogi by Yogananda</td>\n",
       "      <td>1</td>\n",
       "      <td>My Parents and Early Life</td>\n",
       "      <td>My Parents and Early Life</td>\n",
       "      <td>https://www.gutenberg.org/cache/epub/7452/pg74...</td>\n",
       "      <td>MY PARENTS AND EARLY LIFE   The characteristi...</td>\n",
       "    </tr>\n",
       "    <tr>\n",
       "      <th>1</th>\n",
       "      <td>Autobigraphy of a Yogi by Yogananda</td>\n",
       "      <td>1</td>\n",
       "      <td>My Parents and Early Life</td>\n",
       "      <td>My Parents and Early Life</td>\n",
       "      <td>https://www.gutenberg.org/cache/epub/7452/pg74...</td>\n",
       "      <td>The helpless humiliations of infancy are not b...</td>\n",
       "    </tr>\n",
       "    <tr>\n",
       "      <th>2</th>\n",
       "      <td>Autobigraphy of a Yogi by Yogananda</td>\n",
       "      <td>1</td>\n",
       "      <td>My Parents and Early Life</td>\n",
       "      <td>My Parents and Early Life</td>\n",
       "      <td>https://www.gutenberg.org/cache/epub/7452/pg74...</td>\n",
       "      <td>My far-reaching memories are not unique. Many ...</td>\n",
       "    </tr>\n",
       "    <tr>\n",
       "      <th>3</th>\n",
       "      <td>Autobigraphy of a Yogi by Yogananda</td>\n",
       "      <td>1</td>\n",
       "      <td>My Parents and Early Life</td>\n",
       "      <td>My Parents and Early Life</td>\n",
       "      <td>https://www.gutenberg.org/cache/epub/7452/pg74...</td>\n",
       "      <td>I was born in the last decade of the nineteent...</td>\n",
       "    </tr>\n",
       "    <tr>\n",
       "      <th>4</th>\n",
       "      <td>Autobigraphy of a Yogi by Yogananda</td>\n",
       "      <td>1</td>\n",
       "      <td>My Parents and Early Life</td>\n",
       "      <td>My Parents and Early Life</td>\n",
       "      <td>https://www.gutenberg.org/cache/epub/7452/pg74...</td>\n",
       "      <td>In Mother’s presence we tasted our earliest bi...</td>\n",
       "    </tr>\n",
       "  </tbody>\n",
       "</table>\n",
       "</div>"
      ],
      "text/plain": [
       "                                author  volume                      topic  \\\n",
       "0  Autobigraphy of a Yogi by Yogananda       1  My Parents and Early Life   \n",
       "1  Autobigraphy of a Yogi by Yogananda       1  My Parents and Early Life   \n",
       "2  Autobigraphy of a Yogi by Yogananda       1  My Parents and Early Life   \n",
       "3  Autobigraphy of a Yogi by Yogananda       1  My Parents and Early Life   \n",
       "4  Autobigraphy of a Yogi by Yogananda       1  My Parents and Early Life   \n",
       "\n",
       "                    subtopic  \\\n",
       "0  My Parents and Early Life   \n",
       "1  My Parents and Early Life   \n",
       "2  My Parents and Early Life   \n",
       "3  My Parents and Early Life   \n",
       "4  My Parents and Early Life   \n",
       "\n",
       "                                                 url  \\\n",
       "0  https://www.gutenberg.org/cache/epub/7452/pg74...   \n",
       "1  https://www.gutenberg.org/cache/epub/7452/pg74...   \n",
       "2  https://www.gutenberg.org/cache/epub/7452/pg74...   \n",
       "3  https://www.gutenberg.org/cache/epub/7452/pg74...   \n",
       "4  https://www.gutenberg.org/cache/epub/7452/pg74...   \n",
       "\n",
       "                                                text  \n",
       "0   MY PARENTS AND EARLY LIFE   The characteristi...  \n",
       "1  The helpless humiliations of infancy are not b...  \n",
       "2  My far-reaching memories are not unique. Many ...  \n",
       "3  I was born in the last decade of the nineteent...  \n",
       "4  In Mother’s presence we tasted our earliest bi...  "
      ]
     },
     "execution_count": 38,
     "metadata": {},
     "output_type": "execute_result"
    }
   ],
   "source": [
    "yogananda = pd.read_csv(\"./Vedanta_Datasets/Modern Books/Yogananda_AoY.csv\")\n",
    "yogananda.head()\n"
   ]
  },
  {
   "cell_type": "code",
   "execution_count": 39,
   "metadata": {},
   "outputs": [
    {
     "data": {
      "text/plain": [
       "(1191, 6)"
      ]
     },
     "execution_count": 39,
     "metadata": {},
     "output_type": "execute_result"
    }
   ],
   "source": [
    "yogananda.shape"
   ]
  },
  {
   "cell_type": "code",
   "execution_count": 40,
   "metadata": {},
   "outputs": [
    {
     "data": {
      "text/plain": [
       "0     MY PARENTS AND EARLY LIFE   The characteristi...\n",
       "1    The helpless humiliations of infancy are not b...\n",
       "2    My far-reaching memories are not unique. Many ...\n",
       "3    I was born in the last decade of the nineteent...\n",
       "4    In Mother’s presence we tasted our earliest bi...\n",
       "Name: text, dtype: object"
      ]
     },
     "execution_count": 40,
     "metadata": {},
     "output_type": "execute_result"
    }
   ],
   "source": [
    "yogananda = yogananda[\"text\"]\n",
    "yogananda.head()"
   ]
  },
  {
   "cell_type": "code",
   "execution_count": 41,
   "metadata": {},
   "outputs": [
    {
     "data": {
      "text/plain": [
       "(1191,)"
      ]
     },
     "execution_count": 41,
     "metadata": {},
     "output_type": "execute_result"
    }
   ],
   "source": [
    "yogananda.shape"
   ]
  },
  {
   "cell_type": "markdown",
   "metadata": {},
   "source": [
    "### Patanjali"
   ]
  },
  {
   "cell_type": "code",
   "execution_count": 42,
   "metadata": {},
   "outputs": [
    {
     "data": {
      "text/html": [
       "<div>\n",
       "<style scoped>\n",
       "    .dataframe tbody tr th:only-of-type {\n",
       "        vertical-align: middle;\n",
       "    }\n",
       "\n",
       "    .dataframe tbody tr th {\n",
       "        vertical-align: top;\n",
       "    }\n",
       "\n",
       "    .dataframe thead th {\n",
       "        text-align: right;\n",
       "    }\n",
       "</style>\n",
       "<table border=\"1\" class=\"dataframe\">\n",
       "  <thead>\n",
       "    <tr style=\"text-align: right;\">\n",
       "      <th></th>\n",
       "      <th>Chapter</th>\n",
       "      <th>Verse</th>\n",
       "      <th>Sanskrit</th>\n",
       "      <th>Word Meanings</th>\n",
       "      <th>Translation</th>\n",
       "    </tr>\n",
       "  </thead>\n",
       "  <tbody>\n",
       "    <tr>\n",
       "      <th>0</th>\n",
       "      <td>1</td>\n",
       "      <td>1</td>\n",
       "      <td>अथ योगानुशासनम्</td>\n",
       "      <td>अथ = now; योग = process of yoking, union; अनुश...</td>\n",
       "      <td>Now, the teachings of yoga are presented since...</td>\n",
       "    </tr>\n",
       "    <tr>\n",
       "      <th>1</th>\n",
       "      <td>1</td>\n",
       "      <td>2</td>\n",
       "      <td>योगश्चित्तवृत्तिनिरोधः</td>\n",
       "      <td>योग  = process of yoking, union; चित्त  = cons...</td>\n",
       "      <td>The purpose of yoga is to quieten the fluctuat...</td>\n",
       "    </tr>\n",
       "    <tr>\n",
       "      <th>2</th>\n",
       "      <td>1</td>\n",
       "      <td>3</td>\n",
       "      <td>तदा द्रष्टुः स्वरूपेऽवस्थानम्</td>\n",
       "      <td>तदा  = then; द्रष्टु  = seer, witness, pure aw...</td>\n",
       "      <td>Once the state of Yoga is achieved, pure consc...</td>\n",
       "    </tr>\n",
       "    <tr>\n",
       "      <th>3</th>\n",
       "      <td>1</td>\n",
       "      <td>4</td>\n",
       "      <td>वृत्तिसारूप्यमितरत्र</td>\n",
       "      <td>वृत्ति = patterning, turnings, movements; सारू...</td>\n",
       "      <td>Till the state of Yoga is achieved, consciousn...</td>\n",
       "    </tr>\n",
       "    <tr>\n",
       "      <th>4</th>\n",
       "      <td>1</td>\n",
       "      <td>5</td>\n",
       "      <td>वृत्तयः पञ्चतय्यः क्लिष्टाक्लिष्टाः</td>\n",
       "      <td>वृत्तयः = patterning, turnings, movements; पञ्...</td>\n",
       "      <td>These mental patterns can be classified into f...</td>\n",
       "    </tr>\n",
       "  </tbody>\n",
       "</table>\n",
       "</div>"
      ],
      "text/plain": [
       "   Chapter  Verse                            Sanskrit   \\\n",
       "0        1      1                      अथ योगानुशासनम्   \n",
       "1        1      2               योगश्चित्तवृत्तिनिरोधः   \n",
       "2        1      3        तदा द्रष्टुः स्वरूपेऽवस्थानम्   \n",
       "3        1      4                 वृत्तिसारूप्यमितरत्र   \n",
       "4        1      5  वृत्तयः पञ्चतय्यः क्लिष्टाक्लिष्टाः   \n",
       "\n",
       "                                       Word Meanings  \\\n",
       "0  अथ = now; योग = process of yoking, union; अनुश...   \n",
       "1  योग  = process of yoking, union; चित्त  = cons...   \n",
       "2  तदा  = then; द्रष्टु  = seer, witness, pure aw...   \n",
       "3  वृत्ति = patterning, turnings, movements; सारू...   \n",
       "4  वृत्तयः = patterning, turnings, movements; पञ्...   \n",
       "\n",
       "                                        Translation   \n",
       "0  Now, the teachings of yoga are presented since...  \n",
       "1  The purpose of yoga is to quieten the fluctuat...  \n",
       "2  Once the state of Yoga is achieved, pure consc...  \n",
       "3  Till the state of Yoga is achieved, consciousn...  \n",
       "4  These mental patterns can be classified into f...  "
      ]
     },
     "execution_count": 42,
     "metadata": {},
     "output_type": "execute_result"
    }
   ],
   "source": [
    "patanjali = pd.read_csv(\"./Vedanta_Datasets/Patanjali_Yoga_Sutras/Patanjali_Yoga_Sutras_Verses_English.csv\")\n",
    "patanjali.head()"
   ]
  },
  {
   "cell_type": "code",
   "execution_count": 43,
   "metadata": {},
   "outputs": [
    {
     "data": {
      "text/plain": [
       "(195, 5)"
      ]
     },
     "execution_count": 43,
     "metadata": {},
     "output_type": "execute_result"
    }
   ],
   "source": [
    "patanjali.shape"
   ]
  },
  {
   "cell_type": "code",
   "execution_count": 44,
   "metadata": {},
   "outputs": [
    {
     "data": {
      "text/plain": [
       "0    Now, the teachings of yoga are presented since...\n",
       "1    The purpose of yoga is to quieten the fluctuat...\n",
       "2    Once the state of Yoga is achieved, pure consc...\n",
       "3    Till the state of Yoga is achieved, consciousn...\n",
       "4    These mental patterns can be classified into f...\n",
       "Name: Translation , dtype: object"
      ]
     },
     "execution_count": 44,
     "metadata": {},
     "output_type": "execute_result"
    }
   ],
   "source": [
    "patanjali = patanjali[\"Translation \"]\n",
    "patanjali.head()"
   ]
  },
  {
   "cell_type": "code",
   "execution_count": 45,
   "metadata": {},
   "outputs": [
    {
     "data": {
      "text/plain": [
       "(195,)"
      ]
     },
     "execution_count": 45,
     "metadata": {},
     "output_type": "execute_result"
    }
   ],
   "source": [
    "patanjali.shape #Final text dataset for Patanjali"
   ]
  },
  {
   "cell_type": "code",
   "execution_count": 46,
   "metadata": {},
   "outputs": [
    {
     "data": {
      "text/plain": [
       "(12827,)"
      ]
     },
     "execution_count": 46,
     "metadata": {},
     "output_type": "execute_result"
    }
   ],
   "source": [
    "folders_done_3 = pd.concat([mahabharata_text, yogananda, patanjali,], ignore_index=True)\n",
    "\n",
    "# Print the combined DataFrame\n",
    "folders_done_3.shape"
   ]
  },
  {
   "cell_type": "markdown",
   "metadata": {},
   "source": [
    "### Upanishads"
   ]
  },
  {
   "cell_type": "code",
   "execution_count": 47,
   "metadata": {},
   "outputs": [],
   "source": [
    "Upanishad_Katha = pd.read_csv(\"./Vedanta_Datasets/Upanishads/Upanishad_Katha.csv\")\n",
    "Upanishad_Mandukya = pd.read_csv(\"./Vedanta_Datasets/Upanishads/Upanishad_Mandukya.csv\")\n",
    "Upanishad_Isavasya = pd.read_csv(\"./Vedanta_Datasets/Upanishads/Upanishad_Isavasya.csv\")"
   ]
  },
  {
   "cell_type": "code",
   "execution_count": 48,
   "metadata": {},
   "outputs": [
    {
     "name": "stdout",
     "output_type": "stream",
     "text": [
      "(119, 4)\n",
      "(12, 4)\n",
      "(18, 4)\n"
     ]
    }
   ],
   "source": [
    "print(Upanishad_Katha.shape)\n",
    "print(Upanishad_Mandukya.shape)\n",
    "print(Upanishad_Isavasya.shape)"
   ]
  },
  {
   "cell_type": "code",
   "execution_count": 49,
   "metadata": {},
   "outputs": [
    {
     "name": "stdout",
     "output_type": "stream",
     "text": [
      "Index(['Chapter/Valli', 'Verse', 'Sanskrit', 'Translation'], dtype='object')\n",
      "Index(['Chapter', 'Verse', 'Sanskrit', 'Translation'], dtype='object')\n",
      "Index(['Chapter', 'Verse', 'Sanskrit', 'Translation'], dtype='object')\n"
     ]
    }
   ],
   "source": [
    "print(Upanishad_Katha.columns)\n",
    "print(Upanishad_Mandukya.columns)\n",
    "print(Upanishad_Isavasya.columns)"
   ]
  },
  {
   "cell_type": "code",
   "execution_count": 50,
   "metadata": {},
   "outputs": [],
   "source": [
    "Upanishad_Katha = Upanishad_Katha.rename(columns= {'Chapter/Valli': 'Chapter'})"
   ]
  },
  {
   "cell_type": "code",
   "execution_count": 51,
   "metadata": {},
   "outputs": [
    {
     "name": "stdout",
     "output_type": "stream",
     "text": [
      "Index(['Chapter', 'Verse', 'Sanskrit', 'Translation'], dtype='object')\n",
      "Index(['Chapter', 'Verse', 'Sanskrit', 'Translation'], dtype='object')\n",
      "Index(['Chapter', 'Verse', 'Sanskrit', 'Translation'], dtype='object')\n"
     ]
    }
   ],
   "source": [
    "print(Upanishad_Katha.columns)\n",
    "print(Upanishad_Mandukya.columns)\n",
    "print(Upanishad_Isavasya.columns)"
   ]
  },
  {
   "cell_type": "code",
   "execution_count": 52,
   "metadata": {},
   "outputs": [],
   "source": [
    "upanishads_list = [Upanishad_Katha, Upanishad_Mandukya, Upanishad_Isavasya]\n",
    "upanishads_concatenated = pd.concat(upanishads_list, ignore_index=True)\n",
    "upanishads_concatenated = upanishads_concatenated['Translation']"
   ]
  },
  {
   "cell_type": "code",
   "execution_count": 53,
   "metadata": {},
   "outputs": [
    {
     "data": {
      "text/plain": [
       "(149,)"
      ]
     },
     "execution_count": 53,
     "metadata": {},
     "output_type": "execute_result"
    }
   ],
   "source": [
    "upanishads_concatenated.shape"
   ]
  },
  {
   "cell_type": "code",
   "execution_count": 54,
   "metadata": {},
   "outputs": [],
   "source": [
    "four_folders_dataframe = pd.concat([folders_done_3, upanishads_concatenated], ignore_index= True)\n"
   ]
  },
  {
   "cell_type": "code",
   "execution_count": null,
   "metadata": {},
   "outputs": [
    {
     "ename": "AttributeError",
     "evalue": "'Series' object has no attribute 'columns'",
     "output_type": "error",
     "traceback": [
      "\u001b[1;31m---------------------------------------------------------------------------\u001b[0m",
      "\u001b[1;31mAttributeError\u001b[0m                            Traceback (most recent call last)",
      "\u001b[1;32m~\\AppData\\Local\\Temp\\ipykernel_36952\\1195956814.py\u001b[0m in \u001b[0;36m?\u001b[1;34m()\u001b[0m\n\u001b[1;32m----> 1\u001b[1;33m \u001b[0mprint\u001b[0m\u001b[1;33m(\u001b[0m\u001b[0mfour_folders_dataframe\u001b[0m\u001b[1;33m.\u001b[0m\u001b[0mcolumns\u001b[0m\u001b[1;33m)\u001b[0m\u001b[1;33m\u001b[0m\u001b[1;33m\u001b[0m\u001b[0m\n\u001b[0m",
      "\u001b[1;32mc:\\Users\\adity\\AppData\\Local\\Programs\\Python\\Python311\\Lib\\site-packages\\pandas\\core\\generic.py\u001b[0m in \u001b[0;36m?\u001b[1;34m(self, name)\u001b[0m\n\u001b[0;32m   6295\u001b[0m             \u001b[1;32mand\u001b[0m \u001b[0mname\u001b[0m \u001b[1;32mnot\u001b[0m \u001b[1;32min\u001b[0m \u001b[0mself\u001b[0m\u001b[1;33m.\u001b[0m\u001b[0m_accessors\u001b[0m\u001b[1;33m\u001b[0m\u001b[1;33m\u001b[0m\u001b[0m\n\u001b[0;32m   6296\u001b[0m             \u001b[1;32mand\u001b[0m \u001b[0mself\u001b[0m\u001b[1;33m.\u001b[0m\u001b[0m_info_axis\u001b[0m\u001b[1;33m.\u001b[0m\u001b[0m_can_hold_identifiers_and_holds_name\u001b[0m\u001b[1;33m(\u001b[0m\u001b[0mname\u001b[0m\u001b[1;33m)\u001b[0m\u001b[1;33m\u001b[0m\u001b[1;33m\u001b[0m\u001b[0m\n\u001b[0;32m   6297\u001b[0m         ):\n\u001b[0;32m   6298\u001b[0m             \u001b[1;32mreturn\u001b[0m \u001b[0mself\u001b[0m\u001b[1;33m[\u001b[0m\u001b[0mname\u001b[0m\u001b[1;33m]\u001b[0m\u001b[1;33m\u001b[0m\u001b[1;33m\u001b[0m\u001b[0m\n\u001b[1;32m-> 6299\u001b[1;33m         \u001b[1;32mreturn\u001b[0m \u001b[0mobject\u001b[0m\u001b[1;33m.\u001b[0m\u001b[0m__getattribute__\u001b[0m\u001b[1;33m(\u001b[0m\u001b[0mself\u001b[0m\u001b[1;33m,\u001b[0m \u001b[0mname\u001b[0m\u001b[1;33m)\u001b[0m\u001b[1;33m\u001b[0m\u001b[1;33m\u001b[0m\u001b[0m\n\u001b[0m",
      "\u001b[1;31mAttributeError\u001b[0m: 'Series' object has no attribute 'columns'"
     ]
    }
   ],
   "source": []
  },
  {
   "cell_type": "code",
   "execution_count": null,
   "metadata": {},
   "outputs": [
    {
     "name": "stdout",
     "output_type": "stream",
     "text": [
      "(12976,)\n",
      "----------------------------------------------------------->\n",
      "count                          12976\n",
      "unique                         12741\n",
      "top       (Sambhava Parva continued)\n",
      "freq                              76\n",
      "dtype: object\n",
      "----------------------------------------------------------->\n",
      "0    Om! Having bowed down to Narayana and Nara, th...\n",
      "1    Ugrasrava, the son of Lomaharshana, surnamed S...\n",
      "2    Accomplished in speech, Sauti, thus questioned...\n",
      "3    \"Sauti said, 'Having heard the diverse sacred ...\n",
      "4    \"The Rishi replied, 'The Purana, first promulg...\n",
      "dtype: object\n",
      "----------------------------------------------------------->\n",
      "12971    He who knows these two, the Unmanifested and t...\n",
      "12972    The face of truth (Brahman in the solar orb) i...\n",
      "12973    O thou who art nourisher, the solitary travell...\n",
      "12974    Let (my) vital force now attain the (all perva...\n",
      "12975    O Fire! O God! Knowing, as thou do, all our de...\n",
      "dtype: object\n"
     ]
    }
   ],
   "source": [
    "print(four_folders_dataframe.shape)\n",
    "print('----------------------------------------------------------->')\n",
    "print(four_folders_dataframe.describe())\n",
    "print('----------------------------------------------------------->')\n",
    "print(four_folders_dataframe.head())\n",
    "print('----------------------------------------------------------->')\n",
    "print(four_folders_dataframe.tail())"
   ]
  },
  {
   "cell_type": "code",
   "execution_count": null,
   "metadata": {},
   "outputs": [],
   "source": [
    "import os\n",
    "output_dir = 'data'\n",
    "output_file = 'text.csv'\n",
    "\n",
    "output_path = os.path.join(output_dir, output_file)\n",
    "#four_folders_dataframe.to_csv(output_path, index=False)\n"
   ]
  },
  {
   "cell_type": "code",
   "execution_count": null,
   "metadata": {},
   "outputs": [],
   "source": []
  },
  {
   "cell_type": "code",
   "execution_count": null,
   "metadata": {},
   "outputs": [],
   "source": []
  },
  {
   "cell_type": "code",
   "execution_count": null,
   "metadata": {},
   "outputs": [],
   "source": []
  },
  {
   "cell_type": "code",
   "execution_count": null,
   "metadata": {},
   "outputs": [],
   "source": []
  }
 ],
 "metadata": {
  "kernelspec": {
   "display_name": "Python 3",
   "language": "python",
   "name": "python3"
  },
  "language_info": {
   "codemirror_mode": {
    "name": "ipython",
    "version": 3
   },
   "file_extension": ".py",
   "mimetype": "text/x-python",
   "name": "python",
   "nbconvert_exporter": "python",
   "pygments_lexer": "ipython3",
   "version": "3.11.0"
  }
 },
 "nbformat": 4,
 "nbformat_minor": 2
}
